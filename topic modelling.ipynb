{
 "cells": [
  {
   "cell_type": "code",
   "execution_count": 1,
   "metadata": {},
   "outputs": [],
   "source": [
    "import nltk\n",
    "import re\n",
    "import string\n",
    "import pandas as pd\n",
    "from nltk.corpus import stopwords\n",
    "stop = stopwords.words('english')"
   ]
  },
  {
   "cell_type": "code",
   "execution_count": 2,
   "metadata": {},
   "outputs": [
    {
     "data": {
      "text/html": [
       "<div>\n",
       "<style scoped>\n",
       "    .dataframe tbody tr th:only-of-type {\n",
       "        vertical-align: middle;\n",
       "    }\n",
       "\n",
       "    .dataframe tbody tr th {\n",
       "        vertical-align: top;\n",
       "    }\n",
       "\n",
       "    .dataframe thead th {\n",
       "        text-align: right;\n",
       "    }\n",
       "</style>\n",
       "<table border=\"1\" class=\"dataframe\">\n",
       "  <thead>\n",
       "    <tr style=\"text-align: right;\">\n",
       "      <th></th>\n",
       "      <th>_id</th>\n",
       "      <th>crawlDate</th>\n",
       "      <th>headline</th>\n",
       "      <th>embargoDate</th>\n",
       "      <th>sourceUrl</th>\n",
       "      <th>description</th>\n",
       "      <th>cureType</th>\n",
       "      <th>publishedDate</th>\n",
       "      <th>isLead</th>\n",
       "      <th>state</th>\n",
       "      <th>docId</th>\n",
       "      <th>id</th>\n",
       "    </tr>\n",
       "  </thead>\n",
       "  <tbody>\n",
       "    <tr>\n",
       "      <th>0</th>\n",
       "      <td>5bacf708f882a53f035a6085</td>\n",
       "      <td>2018-09-27 15:17:39.197000</td>\n",
       "      <td>Pfizer Initiates Phase 3 Program for PF-049658...</td>\n",
       "      <td>2017-12-14 00:00:00</td>\n",
       "      <td>https://www.pfizer.com/news/press-release/pres...</td>\n",
       "      <td>2017-12-14 00:00:00\\n\\nGlobal program to comme...</td>\n",
       "      <td>NaN</td>\n",
       "      <td>NaN</td>\n",
       "      <td>NaN</td>\n",
       "      <td>pending</td>\n",
       "      <td>30005560</td>\n",
       "      <td>30005560</td>\n",
       "    </tr>\n",
       "    <tr>\n",
       "      <th>1</th>\n",
       "      <td>5bacf72bf882a53f035a6086</td>\n",
       "      <td>2018-09-27 15:17:39.197000</td>\n",
       "      <td>FDA Approves New Pfizer Biosimilar</td>\n",
       "      <td>2017-12-13 00:00:00</td>\n",
       "      <td>https://www.pfizer.com/news/press-release/pres...</td>\n",
       "      <td>2017-12-13 00:00:00\\n\\nPfizer-Developed Biosim...</td>\n",
       "      <td>NaN</td>\n",
       "      <td>NaN</td>\n",
       "      <td>NaN</td>\n",
       "      <td>pending</td>\n",
       "      <td>60616813</td>\n",
       "      <td>60616813</td>\n",
       "    </tr>\n",
       "    <tr>\n",
       "      <th>2</th>\n",
       "      <td>5bacf73af882a53f035a6087</td>\n",
       "      <td>2018-09-27 15:17:39.197000</td>\n",
       "      <td>Phase 3 TRUMENBA® (Meningococcal Group B Vacci...</td>\n",
       "      <td>2017-12-13 00:00:00</td>\n",
       "      <td>https://www.pfizer.com/news/press-release/pres...</td>\n",
       "      <td>2017-12-13 00:00:00\\n\\nWednesday, December 13,...</td>\n",
       "      <td>NaN</td>\n",
       "      <td>NaN</td>\n",
       "      <td>NaN</td>\n",
       "      <td>pending</td>\n",
       "      <td>86380804</td>\n",
       "      <td>86380804</td>\n",
       "    </tr>\n",
       "    <tr>\n",
       "      <th>3</th>\n",
       "      <td>5bacf74bf882a53f035a6088</td>\n",
       "      <td>2018-09-27 15:17:39.197000</td>\n",
       "      <td>U.S. Food And Drug Administration Extends Acti...</td>\n",
       "      <td>2017-12-12 00:00:00</td>\n",
       "      <td>https://www.pfizer.com/news/press-release/pres...</td>\n",
       "      <td>2017-12-12 00:00:00\\n\\nTuesday, December 12, 2...</td>\n",
       "      <td>NaN</td>\n",
       "      <td>NaN</td>\n",
       "      <td>NaN</td>\n",
       "      <td>pending</td>\n",
       "      <td>85365086</td>\n",
       "      <td>85365086</td>\n",
       "    </tr>\n",
       "    <tr>\n",
       "      <th>4</th>\n",
       "      <td>5bacf757f882a53f035a6089</td>\n",
       "      <td>2018-09-27 15:17:39.197000</td>\n",
       "      <td>Spark Therapeutics and Pfizer Announce Longer-...</td>\n",
       "      <td>2017-12-11 00:00:00</td>\n",
       "      <td>https://www.pfizer.com/news/press-release/pres...</td>\n",
       "      <td>2017-12-11 00:00:00\\n\\nData include eleventh p...</td>\n",
       "      <td>NaN</td>\n",
       "      <td>NaN</td>\n",
       "      <td>NaN</td>\n",
       "      <td>pending</td>\n",
       "      <td>36085546</td>\n",
       "      <td>36085546</td>\n",
       "    </tr>\n",
       "  </tbody>\n",
       "</table>\n",
       "</div>"
      ],
      "text/plain": [
       "                        _id                   crawlDate  \\\n",
       "0  5bacf708f882a53f035a6085  2018-09-27 15:17:39.197000   \n",
       "1  5bacf72bf882a53f035a6086  2018-09-27 15:17:39.197000   \n",
       "2  5bacf73af882a53f035a6087  2018-09-27 15:17:39.197000   \n",
       "3  5bacf74bf882a53f035a6088  2018-09-27 15:17:39.197000   \n",
       "4  5bacf757f882a53f035a6089  2018-09-27 15:17:39.197000   \n",
       "\n",
       "                                            headline          embargoDate  \\\n",
       "0  Pfizer Initiates Phase 3 Program for PF-049658...  2017-12-14 00:00:00   \n",
       "1                 FDA Approves New Pfizer Biosimilar  2017-12-13 00:00:00   \n",
       "2  Phase 3 TRUMENBA® (Meningococcal Group B Vacci...  2017-12-13 00:00:00   \n",
       "3  U.S. Food And Drug Administration Extends Acti...  2017-12-12 00:00:00   \n",
       "4  Spark Therapeutics and Pfizer Announce Longer-...  2017-12-11 00:00:00   \n",
       "\n",
       "                                           sourceUrl  \\\n",
       "0  https://www.pfizer.com/news/press-release/pres...   \n",
       "1  https://www.pfizer.com/news/press-release/pres...   \n",
       "2  https://www.pfizer.com/news/press-release/pres...   \n",
       "3  https://www.pfizer.com/news/press-release/pres...   \n",
       "4  https://www.pfizer.com/news/press-release/pres...   \n",
       "\n",
       "                                         description  cureType  publishedDate  \\\n",
       "0  2017-12-14 00:00:00\\n\\nGlobal program to comme...       NaN            NaN   \n",
       "1  2017-12-13 00:00:00\\n\\nPfizer-Developed Biosim...       NaN            NaN   \n",
       "2  2017-12-13 00:00:00\\n\\nWednesday, December 13,...       NaN            NaN   \n",
       "3  2017-12-12 00:00:00\\n\\nTuesday, December 12, 2...       NaN            NaN   \n",
       "4  2017-12-11 00:00:00\\n\\nData include eleventh p...       NaN            NaN   \n",
       "\n",
       "  isLead    state     docId        id  \n",
       "0    NaN  pending  30005560  30005560  \n",
       "1    NaN  pending  60616813  60616813  \n",
       "2    NaN  pending  86380804  86380804  \n",
       "3    NaN  pending  85365086  85365086  \n",
       "4    NaN  pending  36085546  36085546  "
      ]
     },
     "execution_count": 2,
     "metadata": {},
     "output_type": "execute_result"
    }
   ],
   "source": [
    "data = pd.read_csv('data.csv')\n",
    "data.head()"
   ]
  },
  {
   "cell_type": "code",
   "execution_count": 3,
   "metadata": {
    "scrolled": false
   },
   "outputs": [
    {
     "name": "stdout",
     "output_type": "stream",
     "text": [
      "<class 'pandas.core.frame.DataFrame'>\n",
      "RangeIndex: 8577 entries, 0 to 8576\n",
      "Data columns (total 12 columns):\n",
      "_id              8577 non-null object\n",
      "crawlDate        8577 non-null object\n",
      "headline         8572 non-null object\n",
      "embargoDate      8577 non-null object\n",
      "sourceUrl        8577 non-null object\n",
      "description      8577 non-null object\n",
      "cureType         0 non-null float64\n",
      "publishedDate    0 non-null float64\n",
      "isLead           16 non-null object\n",
      "state            8577 non-null object\n",
      "docId            8577 non-null int64\n",
      "id               8577 non-null int64\n",
      "dtypes: float64(2), int64(2), object(8)\n",
      "memory usage: 804.2+ KB\n"
     ]
    }
   ],
   "source": [
    "data.info()"
   ]
  },
  {
   "cell_type": "code",
   "execution_count": 4,
   "metadata": {},
   "outputs": [
    {
     "data": {
      "text/plain": [
       "True"
      ]
     },
     "execution_count": 4,
     "metadata": {},
     "output_type": "execute_result"
    }
   ],
   "source": [
    "data['docId'].equals(data['id'])"
   ]
  },
  {
   "cell_type": "code",
   "execution_count": 5,
   "metadata": {},
   "outputs": [
    {
     "data": {
      "text/plain": [
       "True"
      ]
     },
     "execution_count": 5,
     "metadata": {},
     "output_type": "execute_result"
    }
   ],
   "source": [
    "sum(data.duplicated(subset = \"sourceUrl\")) == 0"
   ]
  },
  {
   "cell_type": "code",
   "execution_count": 6,
   "metadata": {
    "scrolled": true
   },
   "outputs": [
    {
     "data": {
      "text/plain": [
       "'2017-12-13 00:00:00\\n\\nPfizer-Developed Biosimilar Medicine IXIFITM (infliximab-qbtx) Receives FDA Approval for All Eligible Indications \\nWednesday, December 13, 2017 - 6:01pmESTPfizer Inc. (NYSE:PFE) announced today that the United States (U.S.) Food and Drug Administration (FDA) has approved IXIFITM (PF-06438179, infliximab-qbtx), a chimeric human-murine monoclonal antibody (mAb) against tumor necrosis factor, as a biosimilar to Remicade® (infliximab)* for all eligible indications of the reference product.1  \\nThe FDA has approved IXIFI as a treatment for patients with rheumatoid arthritis, Crohn\\'s disease, pediatric Crohn’s disease, ulcerative colitis, ankylosing spondylitis, psoriatic arthritis, and plaque psoriasis.1  \\nFDA approval follows the acceptance of the IXIFI Biologics License Application in April 2017 and is based on the totality of evidence demonstrating a high degree of similarity to the reference product, including the REFLECTIONS B537-02 study in patients with moderate to severe active RA2.   The Phase 3, multi-national, randomized, double blind, two-arm, parallel group study evaluated the safety, efficacy, and immunogenicity of IXIFI versus Remicade administered intravenously in combination with methotrexate to treat patients with moderate to severely active RA who have had an inadequate response to methotrexate therapy.2  The study met its primary endpoint of ACR20 response (≥20% improvement by American College of Rheumatology criteria) at Week 14, and was supported by data at week 30.3\\nPfizer has a portfolio of three marketed biosimilar medicines outside the U.S. including INFLECTRA® (infliximab), Retacrit (epoetin zeta), and Nivestim (filgrastim); and a biosimilars pipeline consisting of 13 distinct biosimilar molecules in various stages of development.  As part of its global biosimilars strategy, Pfizer supplies Celltrion’s INFLECTRA® (infliximab-dyyb) in the U.S. and certain other markets across the globe.\\n\\nAbout IXIFITM \\n\\n\\tIXIFITM (infliximab-qbtx) is a chimeric human-murine mAb against tumor necrosis factor, approved as a biosimilar for all eligible indications of the reference product.1 IXIFI has been approved in the U.S. for rheumatoid arthritis, Crohn\\'s disease, pediatric Crohn’s disease, ulcerative colitis, ankylosing spondylitis, psoriatic arthritis, and plaque psoriasis.1   \\n\\n\\t \\n\\n\\tIn February 2016, Sandoz acquired the rights from Pfizer for the development, commercialization and manufacture of PF-06438179 in the 28 EU member states, as well as three of the four member states of the European Free Trade Association (EFTA) (Iceland, Liechtenstein and Norway) that form the European Economic Area (EEA).  Under the terms of the divestment, Pfizer retains commercialization and manufacturing rights to PF-06438179 in countries outside the EEA.4\\nPlease see full Prescribing Information for IXIFI (infliximab- qbtx).\\nAbout Pfizer: Working together for a healthier world®\\n\\n\\tAt Pfizer, we apply science and our global resources to bring therapies to people that extend and significantly improve their lives.  We strive to set the standard for quality, safety and value in the discovery, development and manufacture of health care products.  Our global portfolio includes medicines and vaccines as well as many of the world\\'s best-known consumer health care products.  Every day, Pfizer colleagues work across developed and emerging markets to advance wellness, prevention, treatments and cures that challenge the most feared diseases of our time. Consistent with our responsibility as one of the world\\'s premier innovative biopharmaceutical companies, we collaborate with health care providers, governments and local communities to support and expand access to reliable, affordable health care around the world. For more than 150 years, we have worked to make a difference for all who rely on us. We routinely post information that may be important to investors on our website at www.pfizer.com. In addition, to learn more, please visit us on www.pfizer.com and follow us on Twitter at @Pfizer and @Pfizer_News, LinkedIn, YouTube and like us on Facebook at Facebook.com/Pfizer. \\n\\n\\t \\n\\n\\nDISCLOSURE NOTICE: The information contained in this release is as of December 13, 2017. Pfizer assumes no obligation to update forward-looking statements contained in this release as the result of new information or future events or developments.\\n\\n\\t\\t \\n\\nThis release contains forward-looking information about IXIFI (PF-06438179, infliximab-qbtx), including its potential benefits, that involves substantial risks and uncertainties that could cause actual results to differ materially from those expressed or implied by such statements. Risks and uncertainties include, among other things, the uncertainties inherent in research and development, including the possibility of unfavorable new clinical data and additional analyses of existing clinical data; whether and when any applications for IXIFI may be filed with regulatory authorities in any other jurisdictions; whether and when regulatory authorities in any such other jurisdictions (outside the U.S.) may approve any such applications, which will depend on the assessment by such regulatory authorities of the benefit-risk profile suggested by the totality of the  \\n\\nefficacy and safety information submitted; intellectual property and/or litigation implications; and competitive developments.\\n\\n\\t\\t \\n\\nA further description of risks and uncertainties can be found in Pfizer\\'s Annual Report on Form 10-K for the fiscal year ended December 31, 2016, including in the sections thereof captioned \"Risk Factors\" and \"Forward-Looking Information and Factors That May Affect Future Results\", as well as in its subsequent reports on Form 10-Q and Form 8-K, all of which are filed with the U.S. Securities and Exchange Commission and available at www.sec.gov and www.pfizer.com.\\n\\nReferences\\n[1] IXIFI (infliximab-qbtx) Prescribing Information. New York. NY: Pfizer Inc: 2017. Available at: https://www.accessdata.fda.gov/drugsatfda_docs/label/2017/761072s000lbl.pdf. Accessed December 2017.\\n[2] Pfizer. Pfizer Announces Positive Top-Line Results From Reflections B537-02 Study For PF-06438179 (Infliximab-Pfizer) A Potential Biosimilar To REMICADE® (Infliximab). September 2016. Available at: http://www.pfizer.com/news/press-release/press-release-detail/pfizer_announces_positive_top_line_results_from_reflections_b537_02_study_for_pf_06438179_infliximab_pfizer_a_potential_biosimilar_to_REMICADE_infliximab. Accessed December 2017.\\n[3] Cohen SB, Alten R, Kameda H, Rehman MI, Schumacher K, Schmitt S, Hua SY, Sewell KL. A Randomized, Double-Blind Study Comparing PF-06438179/GP1111, a Potential Infliximab Biosimilar, and Infliximab, Both in Combination with MTX, As Treatment for Patients with Moderate to Severe Active RA Who Have Had an Inadequate Response to MTX Therapy [abstract]. Arthritis Rheumatol. 2017; 69 (suppl 10). Available at: http://acrabstracts.org/abstract/a-randomized-double-blind-study-comparing-pf-06438179gp1111-a-potential-infliximab-biosimilar-and-infliximab-both-in-combination-with-mtx-as-treatment-for-patients-with-moderate-to-severe-active/. Accessed December 2017.\\n[4] Novartis. Sandoz strengthens its biosimilars portfolio with acquisition of Pfizer\\'s biosimilar infliximab in EEA. Available at:\\nhttps://www.novartis.com/news/media-releases/sandoz-strengthens-its-biosimilars-portfolio-acquisition-pfizers-biosimilar. Accessed December 2017.'"
      ]
     },
     "execution_count": 6,
     "metadata": {},
     "output_type": "execute_result"
    }
   ],
   "source": [
    "data['description'][1]"
   ]
  },
  {
   "cell_type": "code",
   "execution_count": 10,
   "metadata": {},
   "outputs": [
    {
     "data": {
      "text/plain": [
       "'https://www.pfizer.com/news/press-release/press-release-detail/bristol_myers_squibb_and_pfizer_alliance_urge_people_to_tune_in_to_afib_take_note_of_stroke_risk'"
      ]
     },
     "execution_count": 10,
     "metadata": {},
     "output_type": "execute_result"
    }
   ],
   "source": [
    "data['sourceUrl'][9]"
   ]
  },
  {
   "cell_type": "code",
   "execution_count": 4,
   "metadata": {},
   "outputs": [
    {
     "name": "stderr",
     "output_type": "stream",
     "text": [
      "C:\\Users\\SOLDIER\\Anaconda3\\lib\\site-packages\\ipykernel_launcher.py:2: SettingWithCopyWarning: \n",
      "A value is trying to be set on a copy of a slice from a DataFrame.\n",
      "Try using .loc[row_indexer,col_indexer] = value instead\n",
      "\n",
      "See the caveats in the documentation: http://pandas.pydata.org/pandas-docs/stable/indexing.html#indexing-view-versus-copy\n",
      "  \n"
     ]
    }
   ],
   "source": [
    "data_text = data[['description']]\n",
    "data_text['index'] = data_text.index\n",
    "documents = data_text"
   ]
  },
  {
   "cell_type": "code",
   "execution_count": 5,
   "metadata": {
    "scrolled": false
   },
   "outputs": [
    {
     "name": "stdout",
     "output_type": "stream",
     "text": [
      "8577\n",
      "                                         description  index\n",
      "0  2017-12-14 00:00:00\\n\\nGlobal program to comme...      0\n",
      "1  2017-12-13 00:00:00\\n\\nPfizer-Developed Biosim...      1\n",
      "2  2017-12-13 00:00:00\\n\\nWednesday, December 13,...      2\n",
      "3  2017-12-12 00:00:00\\n\\nTuesday, December 12, 2...      3\n",
      "4  2017-12-11 00:00:00\\n\\nData include eleventh p...      4\n"
     ]
    }
   ],
   "source": [
    "print(len(documents))\n",
    "print(documents[:5])"
   ]
  },
  {
   "cell_type": "code",
   "execution_count": 6,
   "metadata": {},
   "outputs": [],
   "source": [
    "description_list = list(range(len(data['description'])))"
   ]
  },
  {
   "cell_type": "code",
   "execution_count": 7,
   "metadata": {},
   "outputs": [],
   "source": [
    "for j in range(len(data['description'])):\n",
    "    para = nltk.LineTokenizer(blanklines='discard').tokenize(data['description'][j])\n",
    "    for i in range(len(para)):\n",
    "        para[i] = para[i].lower()\n",
    "        para[i] = re.sub(r'\\d+','',para[i])\n",
    "        para[i] = para[i].translate(str.maketrans(\"\",\"\",string.punctuation))\n",
    "        para[i] = para[i].strip()\n",
    "        para2words = nltk.word_tokenize(para[i])\n",
    "        para2words = [word for word in para2words if word not in stop]\n",
    "        para[i] = \" \".join(para2words)\n",
    "    description_list[j] = \" \".join(para)"
   ]
  },
  {
   "cell_type": "code",
   "execution_count": 40,
   "metadata": {},
   "outputs": [
    {
     "data": {
      "text/plain": [
       "' friday may amedtbusiness wirepfizer inc invites investors media general public view listen webcast conference call investment analysts pm edt friday june purpose call review phase data cp pfizer ’ oral jak inhibitor presented annual congress european league rheumatism eular view listen webcast visit web site homepage wwwpfizercom click “ pfizer conference call analysts eular ” link investor presentations tab information accessing preregistering webcast available wwwpfizercom beginning today participants advised preregister advance conference call also listen conference call dialing either united states outside united states password “ eular webcast ” visitors able view listen archived copy webcast wwwpfizercom contact pfizer incmediajack cox orinvestorjennifer davis'"
      ]
     },
     "execution_count": 40,
     "metadata": {},
     "output_type": "execute_result"
    }
   ],
   "source": [
    "description_list[1409]"
   ]
  },
  {
   "cell_type": "code",
   "execution_count": 8,
   "metadata": {},
   "outputs": [],
   "source": [
    "data['description'] = description_list"
   ]
  },
  {
   "cell_type": "code",
   "execution_count": 9,
   "metadata": {},
   "outputs": [
    {
     "name": "stderr",
     "output_type": "stream",
     "text": [
      "C:\\Users\\SOLDIER\\Anaconda3\\lib\\site-packages\\gensim\\utils.py:1197: UserWarning: detected Windows; aliasing chunkize to chunkize_serial\n",
      "  warnings.warn(\"detected Windows; aliasing chunkize to chunkize_serial\")\n"
     ]
    }
   ],
   "source": [
    "import gensim\n",
    "from gensim.utils import simple_preprocess\n",
    "from gensim.parsing.preprocessing import STOPWORDS\n",
    "from nltk.stem import WordNetLemmatizer, SnowballStemmer\n",
    "from nltk.stem.porter import *\n",
    "stemmer = PorterStemmer()\n",
    "import numpy as np\n",
    "np.random.seed(2018)\n",
    "#import nltk\n",
    "#nltk.download('wordnet')"
   ]
  },
  {
   "cell_type": "code",
   "execution_count": 10,
   "metadata": {},
   "outputs": [],
   "source": [
    "def lemmatize_stemming(text):\n",
    "    return stemmer.stem(WordNetLemmatizer().lemmatize(text, pos='v'))\n",
    "def preprocess(text):\n",
    "    result = []\n",
    "    for token in gensim.utils.simple_preprocess(text):\n",
    "        result.append(lemmatize_stemming(token))\n",
    "    return result"
   ]
  },
  {
   "cell_type": "code",
   "execution_count": 11,
   "metadata": {},
   "outputs": [
    {
     "data": {
      "text/plain": [
       "0    [global, program, commenc, pivot, studi, north...\n",
       "1    [pfizerdevelop, biosimilar, medicin, ixifitm, ...\n",
       "Name: description, dtype: object"
      ]
     },
     "execution_count": 11,
     "metadata": {},
     "output_type": "execute_result"
    }
   ],
   "source": [
    "processed_docs = data['description'].map(preprocess)\n",
    "processed_docs[:2]"
   ]
  },
  {
   "cell_type": "code",
   "execution_count": 46,
   "metadata": {},
   "outputs": [],
   "source": [
    "dictionary = gensim.corpora.Dictionary(processed_docs)"
   ]
  },
  {
   "cell_type": "code",
   "execution_count": 49,
   "metadata": {},
   "outputs": [
    {
     "name": "stdout",
     "output_type": "stream",
     "text": [
      "Dictionary(69834 unique tokens: ['abil', 'abnorm', 'academi', 'access', 'achiev']...)\n"
     ]
    }
   ],
   "source": [
    "print(dictionary)"
   ]
  },
  {
   "cell_type": "code",
   "execution_count": 50,
   "metadata": {},
   "outputs": [],
   "source": [
    "corpus_bow = [dictionary.doc2bow(doc) for doc in processed_docs]"
   ]
  },
  {
   "cell_type": "code",
   "execution_count": 53,
   "metadata": {},
   "outputs": [],
   "source": [
    "from gensim import corpora, models\n",
    "\n",
    "tfidf = models.TfidfModel(corpus_bow)\n",
    "tfidf_corpus = tfidf[corpus_bow]"
   ]
  },
  {
   "cell_type": "code",
   "execution_count": 57,
   "metadata": {},
   "outputs": [],
   "source": [
    "lda_model_bow = gensim.models.LdaMulticore(corpus_bow, num_topics=7, id2word=dictionary)"
   ]
  },
  {
   "cell_type": "code",
   "execution_count": 59,
   "metadata": {},
   "outputs": [
    {
     "name": "stdout",
     "output_type": "stream",
     "text": [
      "Topic: 0 \n",
      "Words: 0.007*\"patient\" + 0.006*\"biotech\" + 0.006*\"data\" + 0.006*\"year\" + 0.006*\"compani\" + 0.005*\"report\" + 0.005*\"develop\" + 0.005*\"clinic\" + 0.005*\"trial\" + 0.005*\"pfizer\"\n",
      "Topic: 1 \n",
      "Words: 0.009*\"compani\" + 0.008*\"market\" + 0.006*\"biotech\" + 0.006*\"develop\" + 0.006*\"report\" + 0.006*\"patient\" + 0.006*\"world\" + 0.006*\"drug\" + 0.006*\"subscrib\" + 0.005*\"clinic\"\n",
      "Topic: 2 \n",
      "Words: 0.009*\"patient\" + 0.007*\"report\" + 0.007*\"updat\" + 0.007*\"market\" + 0.006*\"biotech\" + 0.006*\"compani\" + 0.006*\"data\" + 0.006*\"price\" + 0.006*\"subscrib\" + 0.006*\"deal\"\n",
      "Topic: 3 \n",
      "Words: 0.012*\"compani\" + 0.009*\"patient\" + 0.007*\"data\" + 0.006*\"trial\" + 0.006*\"develop\" + 0.006*\"report\" + 0.006*\"drug\" + 0.005*\"deal\" + 0.005*\"biotech\" + 0.005*\"say\"\n",
      "Topic: 4 \n",
      "Words: 0.008*\"patient\" + 0.008*\"report\" + 0.007*\"develop\" + 0.006*\"data\" + 0.006*\"trial\" + 0.006*\"compani\" + 0.005*\"diseas\" + 0.005*\"clinic\" + 0.005*\"new\" + 0.005*\"drug\"\n",
      "Topic: 5 \n",
      "Words: 0.008*\"patient\" + 0.008*\"data\" + 0.007*\"phase\" + 0.007*\"compani\" + 0.007*\"trial\" + 0.005*\"drug\" + 0.005*\"includ\" + 0.005*\"pfizer\" + 0.005*\"develop\" + 0.005*\"world\"\n",
      "Topic: 6 \n",
      "Words: 0.008*\"cancer\" + 0.008*\"patient\" + 0.006*\"clinic\" + 0.006*\"trial\" + 0.006*\"say\" + 0.005*\"data\" + 0.005*\"develop\" + 0.005*\"use\" + 0.005*\"subscrib\" + 0.005*\"diseas\"\n"
     ]
    }
   ],
   "source": [
    "for idx, topic in lda_model_bow.print_topics(-1):\n",
    "    print('Topic: {} \\nWords: {}'.format(idx, topic))"
   ]
  },
  {
   "cell_type": "code",
   "execution_count": 61,
   "metadata": {},
   "outputs": [
    {
     "name": "stdout",
     "output_type": "stream",
     "text": [
      "Topic: 0\n",
      " Word: 0.001*\"pfizer\" + 0.001*\"cell\" + 0.001*\"health\" + 0.001*\"cancer\" + 0.001*\"deal\" + 0.001*\"trial\" + 0.001*\"phase\" + 0.001*\"patient\" + 0.001*\"subscrib\" + 0.001*\"inc\"\n",
      "Topic: 1\n",
      " Word: 0.003*\"outlook\" + 0.003*\"usd\" + 0.002*\"statu\" + 0.002*\"price\" + 0.002*\"market\" + 0.002*\"segment\" + 0.001*\"report\" + 0.001*\"overview\" + 0.001*\"statuspart\" + 0.001*\"global\"\n",
      "Topic: 2\n",
      " Word: 0.001*\"cancer\" + 0.001*\"trial\" + 0.001*\"pfizer\" + 0.001*\"phase\" + 0.001*\"usd\" + 0.001*\"fda\" + 0.001*\"subscrib\" + 0.001*\"report\" + 0.001*\"price\" + 0.001*\"patient\"\n",
      "Topic: 3\n",
      " Word: 0.002*\"deal\" + 0.001*\"usd\" + 0.001*\"report\" + 0.001*\"cancer\" + 0.001*\"pfizer\" + 0.001*\"profil\" + 0.001*\"price\" + 0.001*\"financi\" + 0.001*\"allianc\" + 0.001*\"inform\"\n"
     ]
    }
   ],
   "source": [
    "lda_model_tfidf = gensim.models.LdaMulticore(tfidf_corpus, num_topics=4, id2word=dictionary)\n",
    "for idx, topic in lda_model_tfidf.print_topics(-1):\n",
    "    print('Topic: {}\\n Word: {}'.format(idx, topic))"
   ]
  },
  {
   "cell_type": "code",
   "execution_count": 62,
   "metadata": {},
   "outputs": [
    {
     "name": "stdout",
     "output_type": "stream",
     "text": [
      "\n",
      "Score: 0.9426096677780151\t \n",
      "Topic: 0.002*\"deal\" + 0.001*\"usd\" + 0.001*\"report\" + 0.001*\"cancer\" + 0.001*\"pfizer\" + 0.001*\"profil\" + 0.001*\"price\" + 0.001*\"financi\" + 0.001*\"allianc\" + 0.001*\"inform\"\n",
      "\n",
      "Score: 0.019277289509773254\t \n",
      "Topic: 0.001*\"pfizer\" + 0.001*\"cell\" + 0.001*\"health\" + 0.001*\"cancer\" + 0.001*\"deal\" + 0.001*\"trial\" + 0.001*\"phase\" + 0.001*\"patient\" + 0.001*\"subscrib\" + 0.001*\"inc\"\n",
      "\n",
      "Score: 0.019227640703320503\t \n",
      "Topic: 0.001*\"cancer\" + 0.001*\"trial\" + 0.001*\"pfizer\" + 0.001*\"phase\" + 0.001*\"usd\" + 0.001*\"fda\" + 0.001*\"subscrib\" + 0.001*\"report\" + 0.001*\"price\" + 0.001*\"patient\"\n",
      "\n",
      "Score: 0.018885435536503792\t \n",
      "Topic: 0.003*\"outlook\" + 0.003*\"usd\" + 0.002*\"statu\" + 0.002*\"price\" + 0.002*\"market\" + 0.002*\"segment\" + 0.001*\"report\" + 0.001*\"overview\" + 0.001*\"statuspart\" + 0.001*\"global\"\n"
     ]
    }
   ],
   "source": [
    "for index, score in sorted(lda_model_tfidf[tfidf_corpus[0]], key=lambda tup: -1*tup[1]):\n",
    "    print(\"\\nScore: {}\\t \\nTopic: {}\".format(score, lda_model_tfidf.print_topic(index, 10)))"
   ]
  },
  {
   "cell_type": "markdown",
   "metadata": {},
   "source": [
    "# Word2Vec"
   ]
  },
  {
   "cell_type": "code",
   "execution_count": 13,
   "metadata": {},
   "outputs": [],
   "source": [
    "from gensim.models import Word2Vec,keyedvectors"
   ]
  },
  {
   "cell_type": "code",
   "execution_count": 14,
   "metadata": {},
   "outputs": [],
   "source": [
    "data_1 = processed_docs[:5000]\n",
    "data_2 = processed_docs[5000:]"
   ]
  },
  {
   "cell_type": "code",
   "execution_count": 15,
   "metadata": {},
   "outputs": [],
   "source": [
    "model = Word2Vec(data_1,min_count= 1)"
   ]
  },
  {
   "cell_type": "code",
   "execution_count": 22,
   "metadata": {},
   "outputs": [
    {
     "name": "stderr",
     "output_type": "stream",
     "text": [
      "C:\\Users\\SOLDIER\\Anaconda3\\lib\\site-packages\\ipykernel_launcher.py:1: DeprecationWarning: Call to deprecated `most_similar` (Method will be removed in 4.0.0, use self.wv.most_similar() instead).\n",
      "  \"\"\"Entry point for launching an IPython kernel.\n"
     ]
    },
    {
     "data": {
      "text/plain": [
       "[('compound', 0.4961828589439392),\n",
       " ('inhibitor', 0.4722789525985718),\n",
       " ('acceler', 0.4720248878002167),\n",
       " ('immunedriven', 0.45982515811920166),\n",
       " ('medicin', 0.4573579430580139),\n",
       " ('newproduct', 0.4523601233959198),\n",
       " ('fda', 0.44724106788635254),\n",
       " ('surmount', 0.4447706639766693),\n",
       " ('shmt', 0.4412253201007843),\n",
       " ('approach', 0.43827542662620544)]"
      ]
     },
     "execution_count": 22,
     "metadata": {},
     "output_type": "execute_result"
    }
   ],
   "source": [
    "model.most_similar('drug')"
   ]
  },
  {
   "cell_type": "code",
   "execution_count": 23,
   "metadata": {},
   "outputs": [
    {
     "name": "stderr",
     "output_type": "stream",
     "text": [
      "C:\\Users\\SOLDIER\\Anaconda3\\lib\\site-packages\\ipykernel_launcher.py:2: DeprecationWarning: Call to deprecated `iter` (Attribute will be removed in 4.0.0, use self.epochs instead).\n",
      "  \n"
     ]
    },
    {
     "data": {
      "text/plain": [
       "(4869814, 5215035)"
      ]
     },
     "execution_count": 23,
     "metadata": {},
     "output_type": "execute_result"
    }
   ],
   "source": [
    "model.build_vocab(data_2, update=True)\n",
    "model.train(data_2, total_examples=model.corpus_count, epochs=model.iter)"
   ]
  },
  {
   "cell_type": "code",
   "execution_count": 24,
   "metadata": {},
   "outputs": [
    {
     "name": "stderr",
     "output_type": "stream",
     "text": [
      "C:\\Users\\SOLDIER\\Anaconda3\\lib\\site-packages\\ipykernel_launcher.py:1: DeprecationWarning: Call to deprecated `most_similar` (Method will be removed in 4.0.0, use self.wv.most_similar() instead).\n",
      "  \"\"\"Entry point for launching an IPython kernel.\n"
     ]
    },
    {
     "data": {
      "text/plain": [
       "[('med', 0.6926538944244385),\n",
       " ('compound', 0.5386916399002075),\n",
       " ('inhibitor', 0.5292642116546631),\n",
       " ('treatment', 0.4999927878379822),\n",
       " ('candid', 0.48753130435943604),\n",
       " ('antibiot', 0.4852186441421509),\n",
       " ('latestag', 0.46718138456344604),\n",
       " ('astrazeneca', 0.46491044759750366),\n",
       " ('rout', 0.4628720283508301),\n",
       " ('way', 0.4617648124694824)]"
      ]
     },
     "execution_count": 24,
     "metadata": {},
     "output_type": "execute_result"
    }
   ],
   "source": [
    "model.most_similar('drug')"
   ]
  },
  {
   "cell_type": "code",
   "execution_count": null,
   "metadata": {},
   "outputs": [],
   "source": []
  }
 ],
 "metadata": {
  "kernelspec": {
   "display_name": "Python 3",
   "language": "python",
   "name": "python3"
  },
  "language_info": {
   "codemirror_mode": {
    "name": "ipython",
    "version": 3
   },
   "file_extension": ".py",
   "mimetype": "text/x-python",
   "name": "python",
   "nbconvert_exporter": "python",
   "pygments_lexer": "ipython3",
   "version": "3.6.5"
  }
 },
 "nbformat": 4,
 "nbformat_minor": 2
}
